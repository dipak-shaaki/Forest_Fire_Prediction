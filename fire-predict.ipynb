{
 "cells": [
  {
   "cell_type": "code",
   "execution_count": 1,
   "id": "18ccbfea-63b3-4e87-9376-dd744198538e",
   "metadata": {},
   "outputs": [
    {
     "name": "stdout",
     "output_type": "stream",
     "text": [
      " Reduced sample dataset created. Shape: (1000, 4)\n"
     ]
    }
   ],
   "source": [
    "#load and slit\n",
    "import pandas as pd\n",
    "\n",
    "# Load your raw fire+no-fire merged file\n",
    "df = pd.read_csv(\"fire_vs_no_fire_locations.csv\")\n",
    "\n",
    "# Split by label\n",
    "df_fire = df[df['fire_occurred'] == 1]\n",
    "df_no_fire = df[df['fire_occurred'] == 0]\n",
    "\n",
    "# Sample smaller balanced subset (adjust numbers if needed)\n",
    "df_fire_sample = df_fire.sample(n=500, random_state=42)\n",
    "df_no_fire_sample = df_no_fire.sample(n=500, random_state=42)\n",
    "\n",
    "# Combine and shuffle\n",
    "df_small = pd.concat([df_fire_sample, df_no_fire_sample]).sample(frac=1, random_state=42).reset_index(drop=True)\n",
    "\n",
    "# Save to use for enrichment\n",
    "df_small.to_csv(\"fire_vs_no_fire_samplee.csv\", index=False)\n",
    "\n",
    "print(f\" Reduced sample dataset created. Shape: {df_small.shape}\")\n"
   ]
  },
  {
   "cell_type": "code",
   "execution_count": 2,
   "id": "441a476b-a4ea-4f21-a8cf-380f8a73c1b8",
   "metadata": {
    "scrolled": true
   },
   "outputs": [
    {
     "name": "stderr",
     "output_type": "stream",
     "text": [
      "C:\\Users\\dipak\\AppData\\Local\\Temp\\ipykernel_14852\\1600827521.py:16: DeprecationWarning: datetime.datetime.utcnow() is deprecated and scheduled for removal in a future version. Use timezone-aware objects to represent datetimes in UTC: datetime.datetime.now(datetime.UTC).\n",
      "  today = pd.to_datetime(datetime.utcnow().date())\n",
      "  4%|███▌                                                                          | 45/1000 [03:15<1:06:40,  4.19s/it]"
     ]
    },
    {
     "name": "stdout",
     "output_type": "stream",
     "text": [
      "Weather error for 28.46765,82.30481,2024-06-10 00:00:00: HTTPSConnectionPool(host='power.larc.nasa.gov', port=443): Read timed out. (read timeout=10)\n"
     ]
    },
    {
     "name": "stderr",
     "output_type": "stream",
     "text": [
      " 10%|███████▍                                                                      | 95/1000 [07:07<1:08:49,  4.56s/it]"
     ]
    },
    {
     "name": "stdout",
     "output_type": "stream",
     "text": [
      "Weather error for 28.7819,80.41485,2016-04-14 00:00:00: 502 Server Error: Bad Gateway for url: https://power.larc.nasa.gov/api/temporal/daily/point?parameters=T2M%2CRH2M%2CWS2M%2CPRECTOTCORR&community=AG&longitude=80.41485&latitude=28.7819&start=20160414&end=20160414&format=JSON\n"
     ]
    },
    {
     "name": "stderr",
     "output_type": "stream",
     "text": [
      " 20%|███████████████▏                                                             | 197/1000 [15:31<1:05:20,  4.88s/it]"
     ]
    },
    {
     "name": "stdout",
     "output_type": "stream",
     "text": [
      "Weather error for 29.40838,80.45134,2016-04-12 00:00:00: 502 Server Error: Bad Gateway for url: https://power.larc.nasa.gov/api/temporal/daily/point?parameters=T2M%2CRH2M%2CWS2M%2CPRECTOTCORR&community=AG&longitude=80.45134&latitude=29.40838&start=20160412&end=20160412&format=JSON\n"
     ]
    },
    {
     "name": "stderr",
     "output_type": "stream",
     "text": [
      " 35%|███████████████████████████▉                                                   | 353/1000 [27:45<51:03,  4.73s/it]"
     ]
    },
    {
     "name": "stdout",
     "output_type": "stream",
     "text": [
      "Weather error for 29.0521,80.5388,2023-04-18 00:00:00: 502 Server Error: Bad Gateway for url: https://power.larc.nasa.gov/api/temporal/daily/point?parameters=T2M%2CRH2M%2CWS2M%2CPRECTOTCORR&community=AG&longitude=80.5388&latitude=29.0521&start=20230418&end=20230418&format=JSON\n"
     ]
    },
    {
     "name": "stderr",
     "output_type": "stream",
     "text": [
      " 38%|██████████████████████████████▏                                                | 382/1000 [29:53<42:50,  4.16s/it]"
     ]
    },
    {
     "name": "stdout",
     "output_type": "stream",
     "text": [
      "Weather error for 28.44719947205094,86.93378529396149,2016-04-27 00:00:00: 502 Server Error: Bad Gateway for url: https://power.larc.nasa.gov/api/temporal/daily/point?parameters=T2M%2CRH2M%2CWS2M%2CPRECTOTCORR&community=AG&longitude=86.93378529396149&latitude=28.44719947205094&start=20160427&end=20160427&format=JSON\n"
     ]
    },
    {
     "name": "stderr",
     "output_type": "stream",
     "text": [
      " 74%|██████████████████████████████████████████████████████████▊                    | 745/1000 [57:22<18:16,  4.30s/it]"
     ]
    },
    {
     "name": "stdout",
     "output_type": "stream",
     "text": [
      "Weather error for 28.09433660371082,88.97019485059653,2023-05-08 00:00:00: HTTPSConnectionPool(host='power.larc.nasa.gov', port=443): Read timed out. (read timeout=10)\n"
     ]
    },
    {
     "name": "stderr",
     "output_type": "stream",
     "text": [
      " 80%|█████████████████████████████████████████████████████████████▉               | 804/1000 [1:03:25<15:18,  4.69s/it]"
     ]
    },
    {
     "name": "stdout",
     "output_type": "stream",
     "text": [
      "Weather error for 26.84999,86.24672,2016-03-02 00:00:00: HTTPSConnectionPool(host='power.larc.nasa.gov', port=443): Read timed out. (read timeout=10)\n"
     ]
    },
    {
     "name": "stderr",
     "output_type": "stream",
     "text": [
      " 98%|███████████████████████████████████████████████████████████████████████████▎ | 978/1000 [1:17:12<01:48,  4.95s/it]"
     ]
    },
    {
     "name": "stdout",
     "output_type": "stream",
     "text": [
      "Weather error for 27.22763,86.18475,2024-04-17 00:00:00: HTTPSConnectionPool(host='power.larc.nasa.gov', port=443): Read timed out. (read timeout=10)\n"
     ]
    },
    {
     "name": "stderr",
     "output_type": "stream",
     "text": [
      "100%|████████████████████████████████████████████████████████████████████████████| 1000/1000 [1:19:13<00:00,  4.75s/it]"
     ]
    },
    {
     "name": "stdout",
     "output_type": "stream",
     "text": [
      "Enrichment complete. Saved as fire_dataset_enriched.csv.\n"
     ]
    },
    {
     "name": "stderr",
     "output_type": "stream",
     "text": [
      "\n"
     ]
    }
   ],
   "source": [
    "import pandas as pd\n",
    "import requests\n",
    "from tqdm import tqdm\n",
    "import time\n",
    "import math\n",
    "from datetime import datetime\n",
    "\n",
    "# Load dataset\n",
    "df = pd.read_csv(\"fire_vs_no_fire_samplee.csv\")\n",
    "\n",
    "# Convert date column and filter invalid dates\n",
    "df['acq_date'] = pd.to_datetime(df['acq_date'], errors='coerce')\n",
    "df = df.dropna(subset=['acq_date'])\n",
    "\n",
    "# Remove rows with future dates (NASA POWER does not support them)\n",
    "today = pd.to_datetime(datetime.utcnow().date())\n",
    "df = df[df['acq_date'] < today].copy()\n",
    "\n",
    "# Initialize new columns for enriched features\n",
    "df['temperature'] = None\n",
    "df['humidity'] = None\n",
    "df['wind_speed'] = None\n",
    "df['precipitation'] = None\n",
    "df['elevation'] = None\n",
    "df['vpd'] = None\n",
    "\n",
    "# Function to fetch weather data from NASA POWER\n",
    "def fetch_weather(lat, lon, date):\n",
    "    url = \"https://power.larc.nasa.gov/api/temporal/daily/point\"\n",
    "    params = {\n",
    "        \"parameters\": \"T2M,RH2M,WS2M,PRECTOTCORR\",\n",
    "        \"community\": \"AG\",\n",
    "        \"longitude\": lon,\n",
    "        \"latitude\": lat,\n",
    "        \"start\": date.strftime('%Y%m%d'),\n",
    "        \"end\": date.strftime('%Y%m%d'),\n",
    "        \"format\": \"JSON\"\n",
    "    }\n",
    "\n",
    "    try:\n",
    "        r = requests.get(url, params=params, timeout=10)\n",
    "        r.raise_for_status()\n",
    "        data = r.json()\n",
    "        props = data[\"properties\"][\"parameter\"]\n",
    "        key = date.strftime('%Y%m%d')\n",
    "        return {\n",
    "            \"temperature\": props[\"T2M\"].get(key),\n",
    "            \"humidity\": props[\"RH2M\"].get(key),\n",
    "            \"wind_speed\": props[\"WS2M\"].get(key),\n",
    "            \"precipitation\": props[\"PRECTOTCORR\"].get(key)\n",
    "        }\n",
    "    except Exception as e:\n",
    "        print(f\"Weather error for {lat},{lon},{date}: {e}\")\n",
    "        return None\n",
    "\n",
    "# Function to fetch elevation from OpenTopoData\n",
    "def fetch_elevation(lat, lon):\n",
    "    url = f\"https://api.opentopodata.org/v1/srtm90m?locations={lat},{lon}\"\n",
    "    try:\n",
    "        r = requests.get(url)\n",
    "        r.raise_for_status()\n",
    "        return r.json()[\"results\"][0][\"elevation\"]\n",
    "    except Exception as e:\n",
    "        print(f\"Elevation error for {lat},{lon}: {e}\")\n",
    "        return None\n",
    "\n",
    "# Function to compute VPD (Vapor Pressure Deficit)\n",
    "def compute_vpd(temp, rh):\n",
    "    try:\n",
    "        es = 0.6108 * math.exp((17.27 * temp) / (temp + 237.3))  # Saturation vapor pressure\n",
    "        ea = es * (rh / 100.0)                                   # Actual vapor pressure\n",
    "        return round(es - ea, 3)\n",
    "    except:\n",
    "        return None\n",
    "\n",
    "# Enrichment loop\n",
    "for i, row in tqdm(df.iterrows(), total=len(df)):\n",
    "    lat, lon, date = row['latitude'], row['longitude'], row['acq_date']\n",
    "\n",
    "    weather = fetch_weather(lat, lon, date)\n",
    "    if weather:\n",
    "        df.at[i, 'temperature'] = weather['temperature']\n",
    "        df.at[i, 'humidity'] = weather['humidity']\n",
    "        df.at[i, 'wind_speed'] = weather['wind_speed']\n",
    "        df.at[i, 'precipitation'] = weather['precipitation']\n",
    "        df.at[i, 'vpd'] = compute_vpd(weather['temperature'], weather['humidity'])\n",
    "\n",
    "    elevation = fetch_elevation(lat, lon)\n",
    "    if elevation is not None:\n",
    "        df.at[i, 'elevation'] = elevation\n",
    "\n",
    "    time.sleep(0.6)  # Respect API rate limits\n",
    "\n",
    "# Save enriched dataset\n",
    "df.to_csv(\"fire_dataset_enriched.csv\", index=False)\n",
    "print(\"Enrichment complete. Saved as fire_dataset_enriched.csv.\")\n"
   ]
  },
  {
   "cell_type": "markdown",
   "id": "d222c68d-cd27-4054-9feb-b82a746f2133",
   "metadata": {},
   "source": [
    "### Verify Data Integrity"
   ]
  },
  {
   "cell_type": "code",
   "execution_count": 1,
   "id": "3fdd2239-f1e1-425c-ad4f-b21e9d7e464d",
   "metadata": {},
   "outputs": [
    {
     "name": "stdout",
     "output_type": "stream",
     "text": [
      "Total rows: 1000\n",
      "\n",
      "Missing values per column:\n",
      "latitude         0\n",
      "longitude        0\n",
      "acq_date         0\n",
      "fire_occurred    0\n",
      "temperature      8\n",
      "humidity         8\n",
      "wind_speed       8\n",
      "precipitation    8\n",
      "elevation        0\n",
      "vpd              8\n",
      "dtype: int64\n"
     ]
    }
   ],
   "source": [
    "import pandas as pd\n",
    "\n",
    "df = pd.read_csv(\"fire_dataset_enriched.csv\")\n",
    "print(\"Total rows:\", len(df))\n",
    "print(\"\\nMissing values per column:\")\n",
    "print(df.isnull().sum())\n"
   ]
  },
  {
   "cell_type": "code",
   "execution_count": 2,
   "id": "f07fbd34-9c4b-4475-b4ce-1d98ab109224",
   "metadata": {},
   "outputs": [
    {
     "name": "stdout",
     "output_type": "stream",
     "text": [
      "Cleaned dataset saved with 992 rows.\n",
      "Dropped 8 rows due to missing data.\n"
     ]
    }
   ],
   "source": [
    "# Drop rows with any missing values\n",
    "df_cleaned = df.dropna()\n",
    "df_cleaned.to_csv(\"fire_dataset_cleaned.csv\", index=False)\n",
    "print(\"Cleaned dataset saved with\", len(df_cleaned), \"rows.\")\n",
    "dropped = len(df) - len(df_cleaned)\n",
    "print(f\"Dropped {dropped} rows due to missing data.\")\n"
   ]
  },
  {
   "cell_type": "code",
   "execution_count": 3,
   "id": "f6c65a02-9ffa-4605-adfb-466b391d0c68",
   "metadata": {},
   "outputs": [
    {
     "name": "stdout",
     "output_type": "stream",
     "text": [
      "fire_occurred\n",
      "0    498\n",
      "1    494\n",
      "Name: count, dtype: int64\n"
     ]
    }
   ],
   "source": [
    "print(df_cleaned['fire_occurred'].value_counts())\n"
   ]
  },
  {
   "cell_type": "markdown",
   "id": "b87790f1-74be-4ef8-880f-b5d13ad6981c",
   "metadata": {},
   "source": [
    "### ML Pipeline for Fire Prediction"
   ]
  },
  {
   "cell_type": "code",
   "execution_count": 7,
   "id": "1d1fb463-d5cb-4698-8db3-8184cccba9cc",
   "metadata": {},
   "outputs": [
    {
     "name": "stdout",
     "output_type": "stream",
     "text": [
      "Requirement already satisfied: catboost in c:\\users\\dipak\\anaconda3\\lib\\site-packages (1.2.8)\n",
      "Requirement already satisfied: xgboost in c:\\users\\dipak\\anaconda3\\lib\\site-packages (3.0.2)\n",
      "Collecting lightgbm\n",
      "  Downloading lightgbm-4.6.0-py3-none-win_amd64.whl.metadata (17 kB)\n",
      "Requirement already satisfied: scikit-learn in c:\\users\\dipak\\anaconda3\\lib\\site-packages (1.5.1)\n",
      "Requirement already satisfied: graphviz in c:\\users\\dipak\\anaconda3\\lib\\site-packages (from catboost) (0.21)\n",
      "Requirement already satisfied: matplotlib in c:\\users\\dipak\\anaconda3\\lib\\site-packages (from catboost) (3.9.2)\n",
      "Requirement already satisfied: numpy<3.0,>=1.16.0 in c:\\users\\dipak\\anaconda3\\lib\\site-packages (from catboost) (1.26.4)\n",
      "Requirement already satisfied: pandas>=0.24 in c:\\users\\dipak\\anaconda3\\lib\\site-packages (from catboost) (2.2.2)\n",
      "Requirement already satisfied: scipy in c:\\users\\dipak\\anaconda3\\lib\\site-packages (from catboost) (1.13.1)\n",
      "Requirement already satisfied: plotly in c:\\users\\dipak\\anaconda3\\lib\\site-packages (from catboost) (5.24.1)\n",
      "Requirement already satisfied: six in c:\\users\\dipak\\anaconda3\\lib\\site-packages (from catboost) (1.16.0)\n",
      "Requirement already satisfied: joblib>=1.2.0 in c:\\users\\dipak\\anaconda3\\lib\\site-packages (from scikit-learn) (1.4.2)\n",
      "Requirement already satisfied: threadpoolctl>=3.1.0 in c:\\users\\dipak\\anaconda3\\lib\\site-packages (from scikit-learn) (3.5.0)\n",
      "Requirement already satisfied: python-dateutil>=2.8.2 in c:\\users\\dipak\\anaconda3\\lib\\site-packages (from pandas>=0.24->catboost) (2.9.0.post0)\n",
      "Requirement already satisfied: pytz>=2020.1 in c:\\users\\dipak\\anaconda3\\lib\\site-packages (from pandas>=0.24->catboost) (2024.1)\n",
      "Requirement already satisfied: tzdata>=2022.7 in c:\\users\\dipak\\anaconda3\\lib\\site-packages (from pandas>=0.24->catboost) (2023.3)\n",
      "Requirement already satisfied: contourpy>=1.0.1 in c:\\users\\dipak\\anaconda3\\lib\\site-packages (from matplotlib->catboost) (1.2.0)\n",
      "Requirement already satisfied: cycler>=0.10 in c:\\users\\dipak\\anaconda3\\lib\\site-packages (from matplotlib->catboost) (0.11.0)\n",
      "Requirement already satisfied: fonttools>=4.22.0 in c:\\users\\dipak\\anaconda3\\lib\\site-packages (from matplotlib->catboost) (4.51.0)\n",
      "Requirement already satisfied: kiwisolver>=1.3.1 in c:\\users\\dipak\\anaconda3\\lib\\site-packages (from matplotlib->catboost) (1.4.4)\n",
      "Requirement already satisfied: packaging>=20.0 in c:\\users\\dipak\\anaconda3\\lib\\site-packages (from matplotlib->catboost) (24.1)\n",
      "Requirement already satisfied: pillow>=8 in c:\\users\\dipak\\anaconda3\\lib\\site-packages (from matplotlib->catboost) (10.4.0)\n",
      "Requirement already satisfied: pyparsing>=2.3.1 in c:\\users\\dipak\\anaconda3\\lib\\site-packages (from matplotlib->catboost) (3.1.2)\n",
      "Requirement already satisfied: tenacity>=6.2.0 in c:\\users\\dipak\\anaconda3\\lib\\site-packages (from plotly->catboost) (8.2.3)\n",
      "Downloading lightgbm-4.6.0-py3-none-win_amd64.whl (1.5 MB)\n",
      "   ---------------------------------------- 0.0/1.5 MB ? eta -:--:--\n",
      "   ---------------------------------------- 0.0/1.5 MB ? eta -:--:--\n",
      "   ------- -------------------------------- 0.3/1.5 MB ? eta -:--:--\n",
      "   -------------- ------------------------- 0.5/1.5 MB 882.6 kB/s eta 0:00:02\n",
      "   -------------- ------------------------- 0.5/1.5 MB 882.6 kB/s eta 0:00:02\n",
      "   --------------------- ------------------ 0.8/1.5 MB 859.5 kB/s eta 0:00:01\n",
      "   ---------------------------- ----------- 1.0/1.5 MB 882.6 kB/s eta 0:00:01\n",
      "   ---------------------------- ----------- 1.0/1.5 MB 882.6 kB/s eta 0:00:01\n",
      "   ---------------------------- ----------- 1.0/1.5 MB 882.6 kB/s eta 0:00:01\n",
      "   ---------------------------- ----------- 1.0/1.5 MB 882.6 kB/s eta 0:00:01\n",
      "   ------------------------------------ --- 1.3/1.5 MB 621.2 kB/s eta 0:00:01\n",
      "   ------------------------------------ --- 1.3/1.5 MB 621.2 kB/s eta 0:00:01\n",
      "   ---------------------------------------- 1.5/1.5 MB 585.3 kB/s eta 0:00:00\n",
      "Installing collected packages: lightgbm\n",
      "Successfully installed lightgbm-4.6.0\n"
     ]
    }
   ],
   "source": [
    "!pip install catboost xgboost lightgbm scikit-learn"
   ]
  },
  {
   "cell_type": "code",
   "execution_count": 4,
   "id": "32d625f8-5080-4834-98f4-5deda783d364",
   "metadata": {},
   "outputs": [],
   "source": [
    "import pandas as pd\n",
    "from sklearn.model_selection import train_test_split\n",
    "from sklearn.preprocessing import StandardScaler\n",
    "\n",
    "# Load sampled or cleaned data\n",
    "df = pd.read_csv(\"fire_dataset_enriched.csv\")  \n",
    "\n",
    "# Drop any remaining NaNs\n",
    "df.dropna(inplace=True)\n",
    "\n",
    "# Features and target\n",
    "features = ['latitude', 'longitude', 'temperature', 'humidity', 'wind_speed',\n",
    "            'precipitation', 'elevation', 'vpd']\n",
    "X = df[features]\n",
    "y = df['fire_occurred']\n",
    "\n",
    "# Split into train and test\n",
    "X_train, X_test, y_train, y_test = train_test_split(X, y, test_size=0.2, random_state=42)\n",
    "\n",
    "# Scale (for logistic regression, optional for tree models)\n",
    "scaler = StandardScaler()\n",
    "X_train_scaled = scaler.fit_transform(X_train)\n",
    "X_test_scaled = scaler.transform(X_test)\n"
   ]
  },
  {
   "cell_type": "markdown",
   "id": "5c5ca428-0b38-4b97-8f32-df6d575c1032",
   "metadata": {},
   "source": [
    "### Train Multiple Models"
   ]
  },
  {
   "cell_type": "code",
   "execution_count": 6,
   "id": "21d5b23e-f040-476d-94f8-87896680c152",
   "metadata": {},
   "outputs": [
    {
     "name": "stdout",
     "output_type": "stream",
     "text": [
      "\n",
      "🔧 Training Logistic Regression...\n",
      "\n",
      "🔧 Training Random Forest...\n",
      "\n",
      "🔧 Training XGBoost...\n",
      "\n",
      "🔧 Training CatBoost...\n"
     ]
    },
    {
     "name": "stderr",
     "output_type": "stream",
     "text": [
      "C:\\Users\\dipak\\anaconda3\\Lib\\site-packages\\xgboost\\training.py:183: UserWarning: [21:41:43] WARNING: C:\\actions-runner\\_work\\xgboost\\xgboost\\src\\learner.cc:738: \n",
      "Parameters: { \"use_label_encoder\" } are not used.\n",
      "\n",
      "  bst.update(dtrain, iteration=i, fobj=obj)\n"
     ]
    },
    {
     "name": "stdout",
     "output_type": "stream",
     "text": [
      "\n",
      "🔧 Training LightGBM...\n",
      "[LightGBM] [Info] Number of positive: 394, number of negative: 399\n",
      "[LightGBM] [Info] Auto-choosing col-wise multi-threading, the overhead of testing was 0.000508 seconds.\n",
      "You can set `force_col_wise=true` to remove the overhead.\n",
      "[LightGBM] [Info] Total Bins 1837\n",
      "[LightGBM] [Info] Number of data points in the train set: 793, number of used features: 8\n",
      "[LightGBM] [Info] [binary:BoostFromScore]: pavg=0.496847 -> initscore=-0.012611\n",
      "[LightGBM] [Info] Start training from score -0.012611\n",
      "[LightGBM] [Warning] No further splits with positive gain, best gain: -inf\n",
      "[LightGBM] [Warning] No further splits with positive gain, best gain: -inf\n",
      "[LightGBM] [Warning] No further splits with positive gain, best gain: -inf\n",
      "[LightGBM] [Warning] No further splits with positive gain, best gain: -inf\n",
      "[LightGBM] [Warning] No further splits with positive gain, best gain: -inf\n",
      "[LightGBM] [Warning] No further splits with positive gain, best gain: -inf\n",
      "[LightGBM] [Warning] No further splits with positive gain, best gain: -inf\n",
      "[LightGBM] [Warning] No further splits with positive gain, best gain: -inf\n",
      "[LightGBM] [Warning] No further splits with positive gain, best gain: -inf\n",
      "[LightGBM] [Warning] No further splits with positive gain, best gain: -inf\n",
      "[LightGBM] [Warning] No further splits with positive gain, best gain: -inf\n",
      "[LightGBM] [Warning] No further splits with positive gain, best gain: -inf\n",
      "[LightGBM] [Warning] No further splits with positive gain, best gain: -inf\n",
      "[LightGBM] [Warning] No further splits with positive gain, best gain: -inf\n",
      "[LightGBM] [Warning] No further splits with positive gain, best gain: -inf\n",
      "[LightGBM] [Warning] No further splits with positive gain, best gain: -inf\n",
      "[LightGBM] [Warning] No further splits with positive gain, best gain: -inf\n",
      "[LightGBM] [Warning] No further splits with positive gain, best gain: -inf\n",
      "\n",
      " Model Performance:\n",
      "Logistic Regression: Accuracy = 81.41%, F1 = 0.829\n",
      "Random Forest: Accuracy = 87.94%, F1 = 0.885\n",
      "XGBoost: Accuracy = 88.44%, F1 = 0.889\n",
      "CatBoost: Accuracy = 90.45%, F1 = 0.911\n",
      "LightGBM: Accuracy = 89.45%, F1 = 0.899\n"
     ]
    },
    {
     "name": "stderr",
     "output_type": "stream",
     "text": [
      "C:\\Users\\dipak\\anaconda3\\Lib\\site-packages\\joblib\\externals\\loky\\backend\\context.py:136: UserWarning: Could not find the number of physical cores for the following reason:\n",
      "[WinError 2] The system cannot find the file specified\n",
      "Returning the number of logical cores instead. You can silence this warning by setting LOKY_MAX_CPU_COUNT to the number of cores you want to use.\n",
      "  warnings.warn(\n",
      "  File \"C:\\Users\\dipak\\anaconda3\\Lib\\site-packages\\joblib\\externals\\loky\\backend\\context.py\", line 257, in _count_physical_cores\n",
      "    cpu_info = subprocess.run(\n",
      "               ^^^^^^^^^^^^^^^\n",
      "  File \"C:\\Users\\dipak\\anaconda3\\Lib\\subprocess.py\", line 548, in run\n",
      "    with Popen(*popenargs, **kwargs) as process:\n",
      "         ^^^^^^^^^^^^^^^^^^^^^^^^^^^\n",
      "  File \"C:\\Users\\dipak\\anaconda3\\Lib\\subprocess.py\", line 1026, in __init__\n",
      "    self._execute_child(args, executable, preexec_fn, close_fds,\n",
      "  File \"C:\\Users\\dipak\\anaconda3\\Lib\\subprocess.py\", line 1538, in _execute_child\n",
      "    hp, ht, pid, tid = _winapi.CreateProcess(executable, args,\n",
      "                       ^^^^^^^^^^^^^^^^^^^^^^^^^^^^^^^^^^^^^^^\n"
     ]
    }
   ],
   "source": [
    "from sklearn.ensemble import RandomForestClassifier\n",
    "from sklearn.linear_model import LogisticRegression\n",
    "from xgboost import XGBClassifier\n",
    "from catboost import CatBoostClassifier\n",
    "from lightgbm import LGBMClassifier\n",
    "from sklearn.metrics import accuracy_score, f1_score\n",
    "\n",
    "models = {\n",
    "    \"Logistic Regression\": LogisticRegression(max_iter=1000),\n",
    "    \"Random Forest\": RandomForestClassifier(n_estimators=100),\n",
    "    \"XGBoost\": XGBClassifier(use_label_encoder=False, eval_metric='logloss'),\n",
    "    \"CatBoost\": CatBoostClassifier(verbose=0),\n",
    "    \"LightGBM\": LGBMClassifier()\n",
    "}\n",
    "\n",
    "results = {}\n",
    "\n",
    "for name, model in models.items():\n",
    "    print(f\"\\n🔧 Training {name}...\")\n",
    "    \n",
    "    if name == \"Logistic Regression\":\n",
    "        model.fit(X_train_scaled, y_train)\n",
    "        y_pred = model.predict(X_test_scaled)\n",
    "    else:\n",
    "        model.fit(X_train, y_train)\n",
    "        y_pred = model.predict(X_test)\n",
    "\n",
    "    acc = accuracy_score(y_test, y_pred)\n",
    "    f1 = f1_score(y_test, y_pred)\n",
    "    results[name] = {'Accuracy': round(acc*100, 2), 'F1-Score': round(f1, 3)}\n",
    "\n",
    "print(\"\\n Model Performance:\")\n",
    "for name, metrics in results.items():\n",
    "    print(f\"{name}: Accuracy = {metrics['Accuracy']}%, F1 = {metrics['F1-Score']}\")\n"
   ]
  },
  {
   "cell_type": "code",
   "execution_count": 10,
   "id": "2cd4b209-8a69-4801-9b69-f8deb3ad9d37",
   "metadata": {},
   "outputs": [
    {
     "name": "stdout",
     "output_type": "stream",
     "text": [
      "✅ Final model saved as catboost_final_model.pkl\n"
     ]
    }
   ],
   "source": [
    "import joblib\n",
    "\n",
    "best_model = CatBoostClassifier(verbose=0)\n",
    "best_model.fit(X, y) \n",
    "joblib.dump(best_model, \"catboost_final_model.pkl\")\n",
    "print(\"Final model saved as catboost_final_model.pkl\")\n"
   ]
  },
  {
   "cell_type": "code",
   "execution_count": 12,
   "id": "0fe68e0e-18ae-4a2a-beed-8a5909ec4514",
   "metadata": {},
   "outputs": [
    {
     "name": "stdout",
     "output_type": "stream",
     "text": [
      "Test dataset saved as fire_test_dataset.csv\n",
      "\n",
      " Classification Report:\n",
      "              precision    recall  f1-score   support\n",
      "\n",
      "           0       1.00      0.92      0.96       100\n",
      "           1       0.93      1.00      0.96        99\n",
      "\n",
      "    accuracy                           0.96       199\n",
      "   macro avg       0.96      0.96      0.96       199\n",
      "weighted avg       0.96      0.96      0.96       199\n",
      "\n"
     ]
    },
    {
     "data": {
      "image/png": "[encoded data removed]",
      "text/plain": [
       "<Figure size 600x400 with 2 Axes>"
      ]
     },
     "metadata": {},
     "output_type": "display_data"
    }
   ],
   "source": [
    "import pandas as pd\n",
    "import joblib\n",
    "from sklearn.model_selection import train_test_split\n",
    "from sklearn.metrics import classification_report, confusion_matrix\n",
    "import matplotlib.pyplot as plt\n",
    "import seaborn as sns\n",
    "\n",
    "# Step 1: Load enriched dataset\n",
    "df = pd.read_csv(\"fire_dataset_enriched.csv\")\n",
    "\n",
    "# Step 2: Drop rows with any missing values (cleaning)\n",
    "df = df.dropna()\n",
    "\n",
    "# Step 3: Define features and target\n",
    "features = [\n",
    "    \"latitude\", \"longitude\", \"temperature\", \"humidity\",\n",
    "    \"wind_speed\", \"precipitation\", \"elevation\", \"vpd\"\n",
    "]\n",
    "target = \"fire_occurred\"\n",
    "\n",
    "X = df[features]\n",
    "y = df[target]\n",
    "\n",
    "# Step 4: Split into train and 20% test\n",
    "X_train, X_test, y_train, y_test = train_test_split(\n",
    "    X, y, test_size=0.2, random_state=42, stratify=y\n",
    ")\n",
    "\n",
    "# Step 5: Save test set\n",
    "test_df = X_test.copy()\n",
    "test_df[\"fire_occurred\"] = y_test\n",
    "test_df.to_csv(\"fire_test_dataset.csv\", index=False)\n",
    "print(\"Test dataset saved as fire_test_dataset.csv\")\n",
    "\n",
    "# Step 6: Load trained model\n",
    "model = joblib.load(\"model/catboost_final_model.pkl\")\n",
    "\n",
    "# Step 7: Predict on test data\n",
    "y_pred = model.predict(X_test)\n",
    "y_proba = model.predict_proba(X_test)[:, 1]\n",
    "\n",
    "# Step 8: Show classification metrics\n",
    "print(\"\\n Classification Report:\")\n",
    "print(classification_report(y_test, y_pred))\n",
    "\n",
    "# Step 9: Plot Confusion Matrix\n",
    "cm = confusion_matrix(y_test, y_pred)\n",
    "plt.figure(figsize=(6, 4))\n",
    "sns.heatmap(cm, annot=True, fmt='d', cmap='YlOrRd', xticklabels=['No Fire', 'Fire'], yticklabels=['No Fire', 'Fire'])\n",
    "plt.xlabel('Predicted')\n",
    "plt.ylabel('Actual')\n",
    "plt.title(' Confusion Matrix')\n",
    "plt.show()\n"
   ]
  },
  {
   "cell_type": "code",
   "execution_count": 13,
   "id": "eb84e944-df02-4a26-a2cd-7c189501a51d",
   "metadata": {},
   "outputs": [
    {
     "name": "stdout",
     "output_type": "stream",
     "text": [
      "🔥 Classification Report for Sample Test:\n",
      "              precision    recall  f1-score   support\n",
      "\n",
      "     No Fire       1.00      1.00      1.00         3\n",
      "        Fire       1.00      1.00      1.00         2\n",
      "\n",
      "    accuracy                           1.00         5\n",
      "   macro avg       1.00      1.00      1.00         5\n",
      "weighted avg       1.00      1.00      1.00         5\n",
      "\n",
      "Lat: 26.42, Lon: 81.34 → True: 🌿 No Fire, Predicted: 🌿 No Fire\n",
      "Lat: 29.07, Lon: 80.26 → True: 🔥 Fire, Predicted: 🔥 Fire\n",
      "Lat: 30.35, Lon: 82.62 → True: 🌿 No Fire, Predicted: 🌿 No Fire\n",
      "Lat: 27.10, Lon: 81.84 → True: 🌿 No Fire, Predicted: 🌿 No Fire\n",
      "Lat: 27.44, Lon: 84.24 → True: 🔥 Fire, Predicted: 🔥 Fire\n"
     ]
    }
   ],
   "source": [
    "# Select a small test set (say 5 random rows)\n",
    "sample_test = df.sample(5, random_state=42)\n",
    "\n",
    "# Show them\n",
    "sample_test[['latitude', 'longitude', 'temperature', 'humidity', 'wind_speed', 'precipitation', 'elevation', 'vpd', 'fire_occurred']]\n",
    "\n",
    "# Define features used in model\n",
    "features = ['latitude', 'longitude', 'temperature', 'humidity', 'wind_speed', \n",
    "            'precipitation', 'elevation', 'vpd']\n",
    "\n",
    "# Predict fire risk\n",
    "X = sample_test[features]\n",
    "y_true = sample_test['fire_occurred']\n",
    "y_pred = model.predict(X)\n",
    "\n",
    "# Show predictions alongside actual\n",
    "sample_test['predicted_fire'] = y_pred\n",
    "sample_test[['latitude', 'longitude', 'fire_occurred', 'predicted_fire']]\n",
    "\n",
    "from sklearn.metrics import classification_report\n",
    "\n",
    "print(\" Classification Report for Sample Test:\")\n",
    "print(classification_report(y_true, y_pred, target_names=[\"No Fire\", \"Fire\"]))\n",
    "\n",
    "for idx, row in sample_test.iterrows():\n",
    "    true_label = \" Fire\" if row['fire_occurred'] == 1 else \" No Fire\"\n",
    "    predicted = \" Fire\" if row['predicted_fire'] == 1 else \" No Fire\"\n",
    "    print(f\"Lat: {row['latitude']:.2f}, Lon: {row['longitude']:.2f} → True: {true_label}, Predicted: {predicted}\")\n"
   ]
  },
  {
   "cell_type": "markdown",
   "id": "466353ff-02a5-4a48-9278-8fe18869570e",
   "metadata": {},
   "source": [
    "### Backend API with FastAP"
   ]
  },
  {
   "cell_type": "code",
   "execution_count": 14,
   "id": "111fc788-53f1-45bd-abd1-9788da3c69ad",
   "metadata": {},
   "outputs": [
    {
     "name": "stdout",
     "output_type": "stream",
     "text": [
      "Collecting fastapi\n",
      "  Using cached fastapi-0.115.13-py3-none-any.whl.metadata (27 kB)\n",
      "Collecting uvicorn\n",
      "  Using cached uvicorn-0.34.3-py3-none-any.whl.metadata (6.5 kB)\n",
      "Requirement already satisfied: joblib in c:\\users\\dipak\\anaconda3\\lib\\site-packages (1.4.2)\n",
      "Requirement already satisfied: pandas in c:\\users\\dipak\\anaconda3\\lib\\site-packages (2.2.2)\n",
      "Requirement already satisfied: requests in c:\\users\\dipak\\anaconda3\\lib\\site-packages (2.32.3)\n",
      "Collecting starlette<0.47.0,>=0.40.0 (from fastapi)\n",
      "  Using cached starlette-0.46.2-py3-none-any.whl.metadata (6.2 kB)\n",
      "Requirement already satisfied: pydantic!=1.8,!=1.8.1,!=2.0.0,!=2.0.1,!=2.1.0,<3.0.0,>=1.7.4 in c:\\users\\dipak\\anaconda3\\lib\\site-packages (from fastapi) (2.8.2)\n",
      "Requirement already satisfied: typing-extensions>=4.8.0 in c:\\users\\dipak\\anaconda3\\lib\\site-packages (from fastapi) (4.11.0)\n",
      "Requirement already satisfied: click>=7.0 in c:\\users\\dipak\\anaconda3\\lib\\site-packages (from uvicorn) (8.1.7)\n",
      "Requirement already satisfied: h11>=0.8 in c:\\users\\dipak\\anaconda3\\lib\\site-packages (from uvicorn) (0.14.0)\n",
      "Requirement already satisfied: numpy>=1.26.0 in c:\\users\\dipak\\anaconda3\\lib\\site-packages (from pandas) (1.26.4)\n",
      "Requirement already satisfied: python-dateutil>=2.8.2 in c:\\users\\dipak\\anaconda3\\lib\\site-packages (from pandas) (2.9.0.post0)\n",
      "Requirement already satisfied: pytz>=2020.1 in c:\\users\\dipak\\anaconda3\\lib\\site-packages (from pandas) (2024.1)\n",
      "Requirement already satisfied: tzdata>=2022.7 in c:\\users\\dipak\\anaconda3\\lib\\site-packages (from pandas) (2023.3)\n",
      "Requirement already satisfied: charset-normalizer<4,>=2 in c:\\users\\dipak\\anaconda3\\lib\\site-packages (from requests) (3.3.2)\n",
      "Requirement already satisfied: idna<4,>=2.5 in c:\\users\\dipak\\anaconda3\\lib\\site-packages (from requests) (3.7)\n",
      "Requirement already satisfied: urllib3<3,>=1.21.1 in c:\\users\\dipak\\anaconda3\\lib\\site-packages (from requests) (2.2.3)\n",
      "Requirement already satisfied: certifi>=2017.4.17 in c:\\users\\dipak\\anaconda3\\lib\\site-packages (from requests) (2025.4.26)\n",
      "Requirement already satisfied: colorama in c:\\users\\dipak\\anaconda3\\lib\\site-packages (from click>=7.0->uvicorn) (0.4.6)\n",
      "Requirement already satisfied: annotated-types>=0.4.0 in c:\\users\\dipak\\anaconda3\\lib\\site-packages (from pydantic!=1.8,!=1.8.1,!=2.0.0,!=2.0.1,!=2.1.0,<3.0.0,>=1.7.4->fastapi) (0.6.0)\n",
      "Requirement already satisfied: pydantic-core==2.20.1 in c:\\users\\dipak\\anaconda3\\lib\\site-packages (from pydantic!=1.8,!=1.8.1,!=2.0.0,!=2.0.1,!=2.1.0,<3.0.0,>=1.7.4->fastapi) (2.20.1)\n",
      "Requirement already satisfied: six>=1.5 in c:\\users\\dipak\\anaconda3\\lib\\site-packages (from python-dateutil>=2.8.2->pandas) (1.16.0)\n",
      "Requirement already satisfied: anyio<5,>=3.6.2 in c:\\users\\dipak\\anaconda3\\lib\\site-packages (from starlette<0.47.0,>=0.40.0->fastapi) (4.2.0)\n",
      "Requirement already satisfied: sniffio>=1.1 in c:\\users\\dipak\\anaconda3\\lib\\site-packages (from anyio<5,>=3.6.2->starlette<0.47.0,>=0.40.0->fastapi) (1.3.0)\n",
      "Using cached fastapi-0.115.13-py3-none-any.whl (95 kB)\n",
      "Using cached uvicorn-0.34.3-py3-none-any.whl (62 kB)\n",
      "Using cached starlette-0.46.2-py3-none-any.whl (72 kB)\n",
      "Installing collected packages: uvicorn, starlette, fastapi\n",
      "Successfully installed fastapi-0.115.13 starlette-0.46.2 uvicorn-0.34.3\n"
     ]
    }
   ],
   "source": [
    "!pip install fastapi uvicorn joblib pandas requests"
   ]
  },
  {
   "cell_type": "code",
   "execution_count": null,
   "id": "57c22cc4-f8d7-41d3-b6cf-8634cb7e9d9c",
   "metadata": {},
   "outputs": [],
   "source": []
  }
 ],
 "metadata": {
  "kernelspec": {
   "display_name": "Python 3 (ipykernel)",
   "language": "python",
   "name": "python3"
  },
  "language_info": {
   "codemirror_mode": {
    "name": "ipython",
    "version": 3
   },
   "file_extension": ".py",
   "mimetype": "text/x-python",
   "name": "python",
   "nbconvert_exporter": "python",
   "pygments_lexer": "ipython3",
   "version": "3.13.5"
  }
 },
 "nbformat": 4,
 "nbformat_minor": 5
}
