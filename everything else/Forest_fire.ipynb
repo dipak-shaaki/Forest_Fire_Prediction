{
 "cells": [
  {
   "cell_type": "markdown",
   "id": "e1281c5a-31bc-4076-a43c-8e851bf65cc8",
   "metadata": {},
   "source": [
    "###  Import Required Libraries"
   ]
  },
  {
   "cell_type": "code",
   "execution_count": 1,
   "id": "7cee07dd-f9ff-49e7-8350-9fe704d94f8e",
   "metadata": {},
   "outputs": [],
   "source": [
    "import pandas as pd\n",
    "import numpy as np\n",
    "import matplotlib.pyplot as plt\n",
    "import random\n",
    "import os"
   ]
  },
  {
   "cell_type": "markdown",
   "id": "67ad12b9-e883-49ff-9a40-61b6558e689e",
   "metadata": {},
   "source": [
    "### Load the Raw FIRMS Datasets"
   ]
  },
  {
   "cell_type": "code",
   "execution_count": 4,
   "id": "352a05f6-3480-4b86-b94c-5bb0c52818ac",
   "metadata": {},
   "outputs": [
    {
     "name": "stdout",
     "output_type": "stream",
     "text": [
      "Total Rows: 378307\n"
     ]
    },
    {
     "data": {
      "text/html": [
       "<div>\n",
       "<style scoped>\n",
       "    .dataframe tbody tr th:only-of-type {\n",
       "        vertical-align: middle;\n",
       "    }\n",
       "\n",
       "    .dataframe tbody tr th {\n",
       "        vertical-align: top;\n",
       "    }\n",
       "\n",
       "    .dataframe thead th {\n",
       "        text-align: right;\n",
       "    }\n",
       "</style>\n",
       "<table border=\"1\" class=\"dataframe\">\n",
       "  <thead>\n",
       "    <tr style=\"text-align: right;\">\n",
       "      <th></th>\n",
       "      <th>latitude</th>\n",
       "      <th>longitude</th>\n",
       "      <th>brightness</th>\n",
       "      <th>scan</th>\n",
       "      <th>track</th>\n",
       "      <th>acq_date</th>\n",
       "      <th>acq_time</th>\n",
       "      <th>satellite</th>\n",
       "      <th>instrument</th>\n",
       "      <th>confidence</th>\n",
       "      <th>version</th>\n",
       "      <th>bright_t31</th>\n",
       "      <th>frp</th>\n",
       "      <th>daynight</th>\n",
       "      <th>type</th>\n",
       "    </tr>\n",
       "  </thead>\n",
       "  <tbody>\n",
       "    <tr>\n",
       "      <th>0</th>\n",
       "      <td>27.95333</td>\n",
       "      <td>84.80014</td>\n",
       "      <td>338.45</td>\n",
       "      <td>0.42</td>\n",
       "      <td>0.38</td>\n",
       "      <td>2013-06-04</td>\n",
       "      <td>735</td>\n",
       "      <td>N</td>\n",
       "      <td>VIIRS</td>\n",
       "      <td>n</td>\n",
       "      <td>2</td>\n",
       "      <td>297.50</td>\n",
       "      <td>5.93</td>\n",
       "      <td>D</td>\n",
       "      <td>0.0</td>\n",
       "    </tr>\n",
       "    <tr>\n",
       "      <th>1</th>\n",
       "      <td>27.94984</td>\n",
       "      <td>84.80045</td>\n",
       "      <td>331.72</td>\n",
       "      <td>0.42</td>\n",
       "      <td>0.38</td>\n",
       "      <td>2013-06-04</td>\n",
       "      <td>735</td>\n",
       "      <td>N</td>\n",
       "      <td>VIIRS</td>\n",
       "      <td>n</td>\n",
       "      <td>2</td>\n",
       "      <td>298.06</td>\n",
       "      <td>2.23</td>\n",
       "      <td>D</td>\n",
       "      <td>0.0</td>\n",
       "    </tr>\n",
       "    <tr>\n",
       "      <th>2</th>\n",
       "      <td>29.45337</td>\n",
       "      <td>80.66618</td>\n",
       "      <td>337.33</td>\n",
       "      <td>0.40</td>\n",
       "      <td>0.37</td>\n",
       "      <td>2013-06-04</td>\n",
       "      <td>736</td>\n",
       "      <td>N</td>\n",
       "      <td>VIIRS</td>\n",
       "      <td>n</td>\n",
       "      <td>2</td>\n",
       "      <td>297.92</td>\n",
       "      <td>4.12</td>\n",
       "      <td>D</td>\n",
       "      <td>0.0</td>\n",
       "    </tr>\n",
       "    <tr>\n",
       "      <th>3</th>\n",
       "      <td>29.60177</td>\n",
       "      <td>81.93739</td>\n",
       "      <td>338.12</td>\n",
       "      <td>0.40</td>\n",
       "      <td>0.37</td>\n",
       "      <td>2013-06-09</td>\n",
       "      <td>742</td>\n",
       "      <td>N</td>\n",
       "      <td>VIIRS</td>\n",
       "      <td>n</td>\n",
       "      <td>2</td>\n",
       "      <td>301.43</td>\n",
       "      <td>4.10</td>\n",
       "      <td>D</td>\n",
       "      <td>0.0</td>\n",
       "    </tr>\n",
       "    <tr>\n",
       "      <th>4</th>\n",
       "      <td>29.77567</td>\n",
       "      <td>81.93168</td>\n",
       "      <td>336.25</td>\n",
       "      <td>0.40</td>\n",
       "      <td>0.37</td>\n",
       "      <td>2013-06-09</td>\n",
       "      <td>742</td>\n",
       "      <td>N</td>\n",
       "      <td>VIIRS</td>\n",
       "      <td>n</td>\n",
       "      <td>2</td>\n",
       "      <td>305.14</td>\n",
       "      <td>9.79</td>\n",
       "      <td>D</td>\n",
       "      <td>0.0</td>\n",
       "    </tr>\n",
       "  </tbody>\n",
       "</table>\n",
       "</div>"
      ],
      "text/plain": [
       "   latitude  longitude  brightness  scan  track    acq_date  acq_time  \\\n",
       "0  27.95333   84.80014      338.45  0.42   0.38  2013-06-04       735   \n",
       "1  27.94984   84.80045      331.72  0.42   0.38  2013-06-04       735   \n",
       "2  29.45337   80.66618      337.33  0.40   0.37  2013-06-04       736   \n",
       "3  29.60177   81.93739      338.12  0.40   0.37  2013-06-09       742   \n",
       "4  29.77567   81.93168      336.25  0.40   0.37  2013-06-09       742   \n",
       "\n",
       "  satellite instrument confidence version  bright_t31   frp daynight  type  \n",
       "0         N      VIIRS          n       2      297.50  5.93        D   0.0  \n",
       "1         N      VIIRS          n       2      298.06  2.23        D   0.0  \n",
       "2         N      VIIRS          n       2      297.92  4.12        D   0.0  \n",
       "3         N      VIIRS          n       2      301.43  4.10        D   0.0  \n",
       "4         N      VIIRS          n       2      305.14  9.79        D   0.0  "
      ]
     },
     "execution_count": 4,
     "metadata": {},
     "output_type": "execute_result"
    }
   ],
   "source": [
    "# Change filenames if yours differ\n",
    "archive_path = 'data/fire_archive_SV-C2_628186.csv'\n",
    "nrt_path = 'data/fire_nrt_SV-C2_628186.csv'\n",
    "\n",
    "# Load CSV files\n",
    "df_archive = pd.read_csv(archive_path)\n",
    "df_nrt = pd.read_csv(nrt_path)\n",
    "\n",
    "# Concatenate both datasets\n",
    "fire_df = pd.concat([df_archive, df_nrt], ignore_index=True)\n",
    "\n",
    "# Show structure\n",
    "print(\"Total Rows:\", fire_df.shape[0])\n",
    "fire_df.head()"
   ]
  },
  {
   "cell_type": "markdown",
   "id": "f5c0e07a-a7dd-4444-8eaa-bcd636645383",
   "metadata": {},
   "source": [
    "#### Filter for Nepal Only (Bounding Box)"
   ]
  },
  {
   "cell_type": "code",
   "execution_count": 5,
   "id": "632cd7dc-6724-4ebc-be35-2bee6c181474",
   "metadata": {},
   "outputs": [
    {
     "name": "stdout",
     "output_type": "stream",
     "text": [
      "Nepal Fire Records: (378307, 15)\n"
     ]
    },
    {
     "data": {
      "text/html": [
       "<div>\n",
       "<style scoped>\n",
       "    .dataframe tbody tr th:only-of-type {\n",
       "        vertical-align: middle;\n",
       "    }\n",
       "\n",
       "    .dataframe tbody tr th {\n",
       "        vertical-align: top;\n",
       "    }\n",
       "\n",
       "    .dataframe thead th {\n",
       "        text-align: right;\n",
       "    }\n",
       "</style>\n",
       "<table border=\"1\" class=\"dataframe\">\n",
       "  <thead>\n",
       "    <tr style=\"text-align: right;\">\n",
       "      <th></th>\n",
       "      <th>latitude</th>\n",
       "      <th>longitude</th>\n",
       "      <th>brightness</th>\n",
       "      <th>scan</th>\n",
       "      <th>track</th>\n",
       "      <th>acq_date</th>\n",
       "      <th>acq_time</th>\n",
       "      <th>satellite</th>\n",
       "      <th>instrument</th>\n",
       "      <th>confidence</th>\n",
       "      <th>version</th>\n",
       "      <th>bright_t31</th>\n",
       "      <th>frp</th>\n",
       "      <th>daynight</th>\n",
       "      <th>type</th>\n",
       "    </tr>\n",
       "  </thead>\n",
       "  <tbody>\n",
       "    <tr>\n",
       "      <th>0</th>\n",
       "      <td>27.95333</td>\n",
       "      <td>84.80014</td>\n",
       "      <td>338.45</td>\n",
       "      <td>0.42</td>\n",
       "      <td>0.38</td>\n",
       "      <td>2013-06-04</td>\n",
       "      <td>735</td>\n",
       "      <td>N</td>\n",
       "      <td>VIIRS</td>\n",
       "      <td>n</td>\n",
       "      <td>2</td>\n",
       "      <td>297.50</td>\n",
       "      <td>5.93</td>\n",
       "      <td>D</td>\n",
       "      <td>0.0</td>\n",
       "    </tr>\n",
       "    <tr>\n",
       "      <th>1</th>\n",
       "      <td>27.94984</td>\n",
       "      <td>84.80045</td>\n",
       "      <td>331.72</td>\n",
       "      <td>0.42</td>\n",
       "      <td>0.38</td>\n",
       "      <td>2013-06-04</td>\n",
       "      <td>735</td>\n",
       "      <td>N</td>\n",
       "      <td>VIIRS</td>\n",
       "      <td>n</td>\n",
       "      <td>2</td>\n",
       "      <td>298.06</td>\n",
       "      <td>2.23</td>\n",
       "      <td>D</td>\n",
       "      <td>0.0</td>\n",
       "    </tr>\n",
       "    <tr>\n",
       "      <th>2</th>\n",
       "      <td>29.45337</td>\n",
       "      <td>80.66618</td>\n",
       "      <td>337.33</td>\n",
       "      <td>0.40</td>\n",
       "      <td>0.37</td>\n",
       "      <td>2013-06-04</td>\n",
       "      <td>736</td>\n",
       "      <td>N</td>\n",
       "      <td>VIIRS</td>\n",
       "      <td>n</td>\n",
       "      <td>2</td>\n",
       "      <td>297.92</td>\n",
       "      <td>4.12</td>\n",
       "      <td>D</td>\n",
       "      <td>0.0</td>\n",
       "    </tr>\n",
       "    <tr>\n",
       "      <th>3</th>\n",
       "      <td>29.60177</td>\n",
       "      <td>81.93739</td>\n",
       "      <td>338.12</td>\n",
       "      <td>0.40</td>\n",
       "      <td>0.37</td>\n",
       "      <td>2013-06-09</td>\n",
       "      <td>742</td>\n",
       "      <td>N</td>\n",
       "      <td>VIIRS</td>\n",
       "      <td>n</td>\n",
       "      <td>2</td>\n",
       "      <td>301.43</td>\n",
       "      <td>4.10</td>\n",
       "      <td>D</td>\n",
       "      <td>0.0</td>\n",
       "    </tr>\n",
       "    <tr>\n",
       "      <th>4</th>\n",
       "      <td>29.77567</td>\n",
       "      <td>81.93168</td>\n",
       "      <td>336.25</td>\n",
       "      <td>0.40</td>\n",
       "      <td>0.37</td>\n",
       "      <td>2013-06-09</td>\n",
       "      <td>742</td>\n",
       "      <td>N</td>\n",
       "      <td>VIIRS</td>\n",
       "      <td>n</td>\n",
       "      <td>2</td>\n",
       "      <td>305.14</td>\n",
       "      <td>9.79</td>\n",
       "      <td>D</td>\n",
       "      <td>0.0</td>\n",
       "    </tr>\n",
       "  </tbody>\n",
       "</table>\n",
       "</div>"
      ],
      "text/plain": [
       "   latitude  longitude  brightness  scan  track    acq_date  acq_time  \\\n",
       "0  27.95333   84.80014      338.45  0.42   0.38  2013-06-04       735   \n",
       "1  27.94984   84.80045      331.72  0.42   0.38  2013-06-04       735   \n",
       "2  29.45337   80.66618      337.33  0.40   0.37  2013-06-04       736   \n",
       "3  29.60177   81.93739      338.12  0.40   0.37  2013-06-09       742   \n",
       "4  29.77567   81.93168      336.25  0.40   0.37  2013-06-09       742   \n",
       "\n",
       "  satellite instrument confidence version  bright_t31   frp daynight  type  \n",
       "0         N      VIIRS          n       2      297.50  5.93        D   0.0  \n",
       "1         N      VIIRS          n       2      298.06  2.23        D   0.0  \n",
       "2         N      VIIRS          n       2      297.92  4.12        D   0.0  \n",
       "3         N      VIIRS          n       2      301.43  4.10        D   0.0  \n",
       "4         N      VIIRS          n       2      305.14  9.79        D   0.0  "
      ]
     },
     "execution_count": 5,
     "metadata": {},
     "output_type": "execute_result"
    }
   ],
   "source": [
    "# Nepal rough lat-lon box\n",
    "nepal_df = fire_df[\n",
    "    (fire_df['latitude'] >= 26.3) & (fire_df['latitude'] <= 30.5) &\n",
    "    (fire_df['longitude'] >= 80.0) & (fire_df['longitude'] <= 89.5)\n",
    "]\n",
    "\n",
    "print(\"Nepal Fire Records:\", nepal_df.shape)\n",
    "nepal_df.head()\n"
   ]
  },
  {
   "cell_type": "markdown",
   "id": "9fd4af06-dca3-48a4-8db5-f3df9557a172",
   "metadata": {},
   "source": [
    "### Save Cleaned Nepal Fire Data\n"
   ]
  },
  {
   "cell_type": "code",
   "execution_count": 6,
   "id": "6108ceb4-3edd-4cb4-936f-16409d20cf0b",
   "metadata": {},
   "outputs": [
    {
     "name": "stdout",
     "output_type": "stream",
     "text": [
      "Saved to 'nepal_fire_data_cleaned.csv'\n"
     ]
    }
   ],
   "source": [
    "nepal_df.to_csv(\"nepal_fire_data_cleaned.csv\", index=False)\n",
    "print(\"Saved to 'nepal_fire_data_cleaned.csv'\")\n"
   ]
  },
  {
   "cell_type": "code",
   "execution_count": 7,
   "id": "022a318c-3f93-4268-a9a0-867a1280a816",
   "metadata": {},
   "outputs": [],
   "source": [
    "# Add Fire Label (1 = fire)\n",
    "nepal_df['fire_occurred'] = 1"
   ]
  },
  {
   "cell_type": "markdown",
   "id": "64ee7ace-d23c-4c8b-86dc-b1abfa6f6322",
   "metadata": {},
   "source": [
    "###  Generate No-Fire Points (Random Sampling in Nepal)"
   ]
  },
  {
   "cell_type": "code",
   "execution_count": 8,
   "id": "e0bae003-9422-4fd1-8498-33132a2369f6",
   "metadata": {},
   "outputs": [],
   "source": [
    "# Number of no-fire points = same as fire points\n",
    "num_samples = len(nepal_df)\n",
    "\n",
    "# Nepal bounds\n",
    "min_lat, max_lat = 26.3, 30.5\n",
    "min_lon, max_lon = 80.0, 89.5\n",
    "\n",
    "# Random date range similar to fire dataset\n",
    "date_range = pd.date_range(start='2012-01-01', end='2024-12-31')\n",
    "\n",
    "# Generate random no-fire points\n",
    "random.seed(42)\n",
    "no_fire_data = []\n",
    "\n",
    "for _ in range(num_samples):\n",
    "    lat = round(random.uniform(min_lat, max_lat), 4)\n",
    "    lon = round(random.uniform(min_lon, max_lon), 4)\n",
    "    date = random.choice(date_range)\n",
    "    no_fire_data.append([lat, lon, date, 0])\n",
    "\n",
    "no_fire_df = pd.DataFrame(no_fire_data, columns=['latitude', 'longitude', 'acq_date', 'fire_occurred'])\n"
   ]
  },
  {
   "cell_type": "code",
   "execution_count": 9,
   "id": "dd125e73-1c54-4eee-9249-98b9a71f5705",
   "metadata": {},
   "outputs": [
    {
     "name": "stdout",
     "output_type": "stream",
     "text": [
      "Saved 'nepal_no_fire_data.csv'\n"
     ]
    }
   ],
   "source": [
    "# No-Fire dataset\n",
    "no_fire_df.to_csv(\"nepal_no_fire_data.csv\", index=False)\n",
    "print(\"Saved 'nepal_no_fire_data.csv'\")\n"
   ]
  },
  {
   "cell_type": "markdown",
   "id": "6d228be0-601b-4676-96e6-f5bc41510a33",
   "metadata": {},
   "source": [
    "### Merge Fire + No-Fire for Model Training"
   ]
  },
  {
   "cell_type": "code",
   "execution_count": 15,
   "id": "d64062d8-8d13-494b-ad4d-750c7472d8d8",
   "metadata": {},
   "outputs": [
    {
     "name": "stdout",
     "output_type": "stream",
     "text": [
      "Final dataset saved as 'fire_dataset_base.csv'\n"
     ]
    },
    {
     "data": {
      "text/plain": [
       "(378307, 4)"
      ]
     },
     "execution_count": 15,
     "metadata": {},
     "output_type": "execute_result"
    }
   ],
   "source": [
    "# Reformat fire dataframe to match no_fire_df\n",
    "fire_data = nepal_df[['latitude', 'longitude', 'acq_date', 'fire_occurred']]\n",
    "\n",
    "# Merge and shuffle\n",
    "full_df = pd.concat([fire_data, no_fire_df], ignore_index=True)\n",
    "full_df = full_df.sample(frac=1).reset_index(drop=True)\n",
    "\n",
    "# Save the base dataset\n",
    "full_df.to_csv(\"fire_dataset_base.csv\", index=False)\n",
    "print(\"Final dataset saved as 'fire_dataset_base.csv'\")\n",
    "fire_data.head()\n",
    "fire_data.shape"
   ]
  },
  {
   "cell_type": "code",
   "execution_count": 16,
   "id": "80cfd230-2fff-4d1a-8c2a-8afb7d4eceac",
   "metadata": {},
   "outputs": [
    {
     "name": "stdout",
     "output_type": "stream",
     "text": [
      "(756614, 4)\n"
     ]
    }
   ],
   "source": [
    "fire_dataset_base = pd.read_csv('fire_dataset_base.csv')\n",
    "print(fire_dataset_base.shape)"
   ]
  },
  {
   "cell_type": "markdown",
   "id": "7a2f70a4-fcec-4871-81fe-4eade1bb8e15",
   "metadata": {},
   "source": [
    "### Sample the Dataset (Smart Downsampling)"
   ]
  },
  {
   "cell_type": "raw",
   "id": "12ab565f-e333-4c86-8113-10d600e98ca5",
   "metadata": {},
   "source": [
    "Stratify sample (equal fire vs no-fire).\n",
    "We should reduce to a manageable number for experimentation (e.g., 20K–30K total)\n",
    "and keep fire:no-fire ratio at 1:1"
   ]
  },
  {
   "cell_type": "code",
   "execution_count": 17,
   "id": "c096ccc0-8e9b-42c3-b625-2ba1a909166c",
   "metadata": {},
   "outputs": [
    {
     "name": "stdout",
     "output_type": "stream",
     "text": [
      "Sampled dataset ready with shape: (30000, 4)\n"
     ]
    }
   ],
   "source": [
    "# Stratified sampling\n",
    "fire_df = full_df[full_df['fire_occurred'] == 1]\n",
    "no_fire_df = full_df[full_df['fire_occurred'] == 0]\n",
    "\n",
    "fire_sample = fire_df.sample(n=15000, random_state=42)\n",
    "no_fire_sample = no_fire_df.sample(n=15000, random_state=42)\n",
    "\n",
    "sample_df = pd.concat([fire_sample, no_fire_sample]).sample(frac=1).reset_index(drop=True)\n",
    "sample_df.to_csv(\"sampled_fire_dataset.csv\", index=False)\n",
    "print(\"Sampled dataset ready with shape:\", sample_df.shape)\n"
   ]
  },
  {
   "cell_type": "markdown",
   "id": "07a2d48f-d113-4faf-a3d7-c6004310c82f",
   "metadata": {},
   "source": [
    "### Basic Data Cleaning"
   ]
  },
  {
   "cell_type": "code",
   "execution_count": 18,
   "id": "07355d3f-ba47-47f8-bd15-223ac9822c48",
   "metadata": {},
   "outputs": [
    {
     "name": "stdout",
     "output_type": "stream",
     "text": [
      "Cleaned sample dataset: (30000, 4)\n"
     ]
    },
    {
     "data": {
      "text/html": [
       "<div>\n",
       "<style scoped>\n",
       "    .dataframe tbody tr th:only-of-type {\n",
       "        vertical-align: middle;\n",
       "    }\n",
       "\n",
       "    .dataframe tbody tr th {\n",
       "        vertical-align: top;\n",
       "    }\n",
       "\n",
       "    .dataframe thead th {\n",
       "        text-align: right;\n",
       "    }\n",
       "</style>\n",
       "<table border=\"1\" class=\"dataframe\">\n",
       "  <thead>\n",
       "    <tr style=\"text-align: right;\">\n",
       "      <th></th>\n",
       "      <th>latitude</th>\n",
       "      <th>longitude</th>\n",
       "      <th>acq_date</th>\n",
       "      <th>fire_occurred</th>\n",
       "    </tr>\n",
       "  </thead>\n",
       "  <tbody>\n",
       "    <tr>\n",
       "      <th>0</th>\n",
       "      <td>27.7645</td>\n",
       "      <td>82.7044</td>\n",
       "      <td>2019-01-25</td>\n",
       "      <td>0</td>\n",
       "    </tr>\n",
       "    <tr>\n",
       "      <th>1</th>\n",
       "      <td>30.1244</td>\n",
       "      <td>83.1066</td>\n",
       "      <td>2022-10-06</td>\n",
       "      <td>0</td>\n",
       "    </tr>\n",
       "    <tr>\n",
       "      <th>2</th>\n",
       "      <td>26.7449</td>\n",
       "      <td>87.5445</td>\n",
       "      <td>2019-04-17</td>\n",
       "      <td>0</td>\n",
       "    </tr>\n",
       "    <tr>\n",
       "      <th>3</th>\n",
       "      <td>27.9938</td>\n",
       "      <td>87.3601</td>\n",
       "      <td>2021-10-29</td>\n",
       "      <td>0</td>\n",
       "    </tr>\n",
       "    <tr>\n",
       "      <th>4</th>\n",
       "      <td>28.2684</td>\n",
       "      <td>80.3336</td>\n",
       "      <td>2022-03-14</td>\n",
       "      <td>0</td>\n",
       "    </tr>\n",
       "  </tbody>\n",
       "</table>\n",
       "</div>"
      ],
      "text/plain": [
       "   latitude  longitude   acq_date  fire_occurred\n",
       "0   27.7645    82.7044 2019-01-25              0\n",
       "1   30.1244    83.1066 2022-10-06              0\n",
       "2   26.7449    87.5445 2019-04-17              0\n",
       "3   27.9938    87.3601 2021-10-29              0\n",
       "4   28.2684    80.3336 2022-03-14              0"
      ]
     },
     "execution_count": 18,
     "metadata": {},
     "output_type": "execute_result"
    }
   ],
   "source": [
    "sample_df['acq_date'] = pd.to_datetime(sample_df['acq_date'], errors='coerce')\n",
    "sample_df.dropna(subset=['latitude', 'longitude', 'acq_date'], inplace=True)\n",
    "\n",
    "print(\"Cleaned sample dataset:\", sample_df.shape)\n",
    "sample_df.head()\n"
   ]
  },
  {
   "cell_type": "code",
   "execution_count": 19,
   "id": "735fff9e-1336-4771-a887-2ee6508853e3",
   "metadata": {},
   "outputs": [],
   "source": [
    "sample_df['uid'] = range(1, len(sample_df) + 1) #Handy for Tracking"
   ]
  },
  {
   "cell_type": "markdown",
   "id": "79f478cd-e371-4bcc-98b9-d77919b66d62",
   "metadata": {},
   "source": [
    "## Feature Enrichment"
   ]
  },
  {
   "cell_type": "code",
   "execution_count": 22,
   "id": "b4b24779-6089-49d0-8ce1-be3a7d7978ba",
   "metadata": {},
   "outputs": [
    {
     "name": "stdout",
     "output_type": "stream",
     "text": [
      "Requirement already satisfied: tqdm in c:\\users\\dipak\\anaconda3\\lib\\site-packages (4.66.5)\n",
      "Requirement already satisfied: requests in c:\\users\\dipak\\anaconda3\\lib\\site-packages (2.32.3)\n",
      "Requirement already satisfied: pandas in c:\\users\\dipak\\anaconda3\\lib\\site-packages (2.2.2)\n",
      "Requirement already satisfied: colorama in c:\\users\\dipak\\anaconda3\\lib\\site-packages (from tqdm) (0.4.6)\n",
      "Requirement already satisfied: charset-normalizer<4,>=2 in c:\\users\\dipak\\anaconda3\\lib\\site-packages (from requests) (3.3.2)\n",
      "Requirement already satisfied: idna<4,>=2.5 in c:\\users\\dipak\\anaconda3\\lib\\site-packages (from requests) (3.7)\n",
      "Requirement already satisfied: urllib3<3,>=1.21.1 in c:\\users\\dipak\\anaconda3\\lib\\site-packages (from requests) (2.2.3)\n",
      "Requirement already satisfied: certifi>=2017.4.17 in c:\\users\\dipak\\anaconda3\\lib\\site-packages (from requests) (2025.4.26)\n",
      "Requirement already satisfied: numpy>=1.26.0 in c:\\users\\dipak\\anaconda3\\lib\\site-packages (from pandas) (1.26.4)\n",
      "Requirement already satisfied: python-dateutil>=2.8.2 in c:\\users\\dipak\\anaconda3\\lib\\site-packages (from pandas) (2.9.0.post0)\n",
      "Requirement already satisfied: pytz>=2020.1 in c:\\users\\dipak\\anaconda3\\lib\\site-packages (from pandas) (2024.1)\n",
      "Requirement already satisfied: tzdata>=2022.7 in c:\\users\\dipak\\anaconda3\\lib\\site-packages (from pandas) (2023.3)\n",
      "Requirement already satisfied: six>=1.5 in c:\\users\\dipak\\anaconda3\\lib\\site-packages (from python-dateutil>=2.8.2->pandas) (1.16.0)\n"
     ]
    }
   ],
   "source": [
    "#Installing python libraries:\n",
    "!pip install tqdm requests pandas"
   ]
  },
  {
   "cell_type": "code",
   "execution_count": null,
   "id": "673fb4c9-8fa4-4e51-b512-4477a99969f2",
   "metadata": {},
   "outputs": [
    {
     "name": "stderr",
     "output_type": "stream",
     "text": [
      " 70%|█████████████████████████████████████████████████▌                     | 10478/15000 [14:02:26<4:33:44,  3.63s/it]"
     ]
    }
   ],
   "source": [
    "import pandas as pd\n",
    "import requests\n",
    "from tqdm import tqdm\n",
    "import time\n",
    "\n",
    "# Read sampled fire dataset\n",
    "df = pd.read_csv(\"sampled_fire_dataset.csv\")\n",
    "\n",
    "# Safely convert 'acq_date' to datetime\n",
    "df['acq_date'] = pd.to_datetime(df['acq_date'], format='%Y-%m-%d', errors='coerce')\n",
    "\n",
    "# Drop rows with invalid dates\n",
    "df = df.dropna(subset=['acq_date'])\n",
    "\n",
    "# Add empty weather feature columns\n",
    "df['temperature'] = None\n",
    "df['humidity'] = None\n",
    "df['wind_speed'] = None\n",
    "df['precipitation'] = None\n",
    "\n",
    "# Define a helper to fetch data from NASA POWER API\n",
    "def get_weather(lat, lon, date):\n",
    "    base_url = \"https://power.larc.nasa.gov/api/temporal/daily/point\"\n",
    "    params = {\n",
    "        \"parameters\": \"T2M,RH2M,WS2M,PRECTOTCORR\",\n",
    "        \"community\": \"AG\",\n",
    "        \"longitude\": lon,\n",
    "        \"latitude\": lat,\n",
    "        \"start\": date.strftime('%Y%m%d'),\n",
    "        \"end\": date.strftime('%Y%m%d'),\n",
    "        \"format\": \"JSON\"\n",
    "    }\n",
    "\n",
    "    try:\n",
    "        response = requests.get(base_url, params=params, timeout=10)\n",
    "        if response.status_code == 200:\n",
    "            data = response.json()\n",
    "            daily = data[\"properties\"][\"parameter\"]\n",
    "            key = date.strftime('%Y%m%d')\n",
    "            return {\n",
    "                \"temperature\": daily[\"T2M\"].get(key),\n",
    "                \"humidity\": daily[\"RH2M\"].get(key),\n",
    "                \"wind_speed\": daily[\"WS2M\"].get(key),\n",
    "                \"precipitation\": daily[\"PRECTOTCORR\"].get(key)\n",
    "            }\n",
    "    except Exception as e:\n",
    "        return None\n",
    "\n",
    "# Enrichment loop\n",
    "for idx, row in tqdm(df.iterrows(), total=len(df)):\n",
    "    weather = get_weather(row['latitude'], row['longitude'], row['acq_date'])\n",
    "    if weather:\n",
    "        df.at[idx, 'temperature'] = weather[\"temperature\"]\n",
    "        df.at[idx, 'humidity'] = weather[\"humidity\"]\n",
    "        df.at[idx, 'wind_speed'] = weather[\"wind_speed\"]\n",
    "        df.at[idx, 'precipitation'] = weather[\"precipitation\"]\n",
    "    time.sleep(0.4)  # respect API limits\n",
    "\n",
    "# Save to file\n",
    "df.to_csv(\"fire_dataset_enriched_weather.csv\", index=False)\n",
    "print(\"Weather data enrichment complete. File saved as 'fire_dataset_enriched_weather.csv'\")\n"
   ]
  },
  {
   "cell_type": "code",
   "execution_count": null,
   "id": "f7fa9dbd-cada-474b-980a-dff518ee95d8",
   "metadata": {},
   "outputs": [],
   "source": []
  }
 ],
 "metadata": {
  "kernelspec": {
   "display_name": "Python [conda env:base] *",
   "language": "python",
   "name": "conda-base-py"
  },
  "language_info": {
   "codemirror_mode": {
    "name": "ipython",
    "version": 3
   },
   "file_extension": ".py",
   "mimetype": "text/x-python",
   "name": "python",
   "nbconvert_exporter": "python",
   "pygments_lexer": "ipython3",
   "version": "3.12.7"
  }
 },
 "nbformat": 4,
 "nbformat_minor": 5
}
